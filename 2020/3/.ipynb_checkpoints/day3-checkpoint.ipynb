{
 "cells": [
  {
   "cell_type": "code",
   "execution_count": 5,
   "metadata": {},
   "outputs": [],
   "source": [
    "import sys\n",
    "import os\n",
    "import itertools\n",
    "# !conda install --yes --prefix {sys.prefix} -c ulmo urllib3"
   ]
  },
  {
   "cell_type": "code",
   "execution_count": 6,
   "metadata": {},
   "outputs": [],
   "source": [
    "def get_input_file(file):\n",
    "    lines = []\n",
    "    with open(file) as f:\n",
    "       lines = f.readlines()\n",
    "    return lines\n",
    "\n",
    "def get_input_from_file_comma_sep(lines):\n",
    "    line = lines[0]\n",
    "    return [int(num) for num in line.split(',')]\n",
    "\n",
    "def get_int_input_from_file_line_sep(lines):\n",
    "    return [int(value) for value in lines]\n",
    "\n",
    "def get_input_from_file_line_sep(lines):\n",
    "    return [str(value) for value in lines]\n"
   ]
  },
  {
   "cell_type": "code",
   "execution_count": 7,
   "metadata": {},
   "outputs": [],
   "source": [
    "def get_hill(lines):\n",
    "    map = []\n",
    "    for line in lines:\n",
    "        map.append(list(line))\n",
    "    return map"
   ]
  },
  {
   "cell_type": "code",
   "execution_count": 14,
   "metadata": {},
   "outputs": [],
   "source": [
    "def solve1(hill):\n",
    "    count = 0\n",
    "    x = 0\n",
    "    y = 0\n",
    "    while y < 323:\n",
    "        hill_x = x % 31\n",
    "        if hill[y][hill_x] == '#':\n",
    "            count = count + 1\n",
    "        x = x + 3\n",
    "        y = y + 1\n",
    "    \n",
    "    print(count)"
   ]
  },
  {
   "cell_type": "code",
   "execution_count": 19,
   "metadata": {},
   "outputs": [],
   "source": [
    "def solve2(hill, run, rise):\n",
    "    count = 0\n",
    "    x = 0\n",
    "    y = 0\n",
    "    while y < 323:\n",
    "        hill_x = x % 31\n",
    "        if hill[y][hill_x] == '#':\n",
    "            count = count + 1\n",
    "        x = x + run\n",
    "        y = y + rise\n",
    "    \n",
    "    print(count)"
   ]
  },
  {
   "cell_type": "code",
   "execution_count": 20,
   "metadata": {},
   "outputs": [],
   "source": [
    "def main():\n",
    "    lines = get_input_file('input.txt')\n",
    "    input = get_input_from_file_line_sep(lines)\n",
    "    \n",
    "    sled_hill = get_hill(input)\n",
    "    \n",
    "    solve1(sled_hill)\n",
    "    solve2(sled_hill, 1, 1)\n",
    "    solve2(sled_hill, 3, 1)\n",
    "    solve2(sled_hill, 5, 1)\n",
    "    solve2(sled_hill, 7, 1)\n",
    "    solve2(sled_hill, 1, 2)"
   ]
  },
  {
   "cell_type": "code",
   "execution_count": 21,
   "metadata": {},
   "outputs": [
    {
     "name": "stdout",
     "output_type": "stream",
     "text": [
      "289\n",
      "84\n",
      "289\n",
      "89\n",
      "71\n",
      "36\n"
     ]
    }
   ],
   "source": [
    "main()"
   ]
  },
  {
   "cell_type": "code",
   "execution_count": 22,
   "metadata": {},
   "outputs": [
    {
     "data": {
      "text/plain": [
       "5522401584"
      ]
     },
     "execution_count": 22,
     "metadata": {},
     "output_type": "execute_result"
    }
   ],
   "source": [
    "84*289*89*71*36"
   ]
  },
  {
   "cell_type": "code",
   "execution_count": null,
   "metadata": {},
   "outputs": [],
   "source": []
  }
 ],
 "metadata": {
  "kernelspec": {
   "display_name": "Python 3",
   "language": "python",
   "name": "python3"
  },
  "language_info": {
   "codemirror_mode": {
    "name": "ipython",
    "version": 3
   },
   "file_extension": ".py",
   "mimetype": "text/x-python",
   "name": "python",
   "nbconvert_exporter": "python",
   "pygments_lexer": "ipython3",
   "version": "3.7.3"
  }
 },
 "nbformat": 4,
 "nbformat_minor": 2
}
