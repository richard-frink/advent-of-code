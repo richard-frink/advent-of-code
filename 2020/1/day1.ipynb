{
 "cells": [
  {
   "cell_type": "code",
   "execution_count": 6,
   "metadata": {},
   "outputs": [],
   "source": [
    "import sys\n",
    "import os\n",
    "import itertools\n",
    "# !conda install --yes --prefix {sys.prefix} -c ulmo urllib3"
   ]
  },
  {
   "cell_type": "code",
   "execution_count": 7,
   "metadata": {},
   "outputs": [],
   "source": [
    "def get_input_file(file):\n",
    "    lines = []\n",
    "    with open(file) as f:\n",
    "       lines = f.readlines()\n",
    "    return lines\n",
    "\n",
    "def get_input_from_file_comma_sep(lines):\n",
    "    line = lines[0]\n",
    "    return [int(num) for num in line.split(',')]\n",
    "\n",
    "def get_input_from_file_line_sep(lines):\n",
    "    return [int(value) for value in lines]\n"
   ]
  },
  {
   "cell_type": "code",
   "execution_count": 13,
   "metadata": {},
   "outputs": [],
   "source": [
    "def solve1(input):\n",
    "    for inputa in input:\n",
    "        for inputb in input:\n",
    "            if inputa + inputb == 2020:\n",
    "                print(str(inputa))\n",
    "                print(str(inputb))\n",
    "                print(inputa*inputb)"
   ]
  },
  {
   "cell_type": "code",
   "execution_count": 19,
   "metadata": {},
   "outputs": [],
   "source": [
    "def solve2(input):\n",
    "    for inputa in input:\n",
    "        for inputb in input:\n",
    "            for inputc in input:\n",
    "                if inputa + inputb + inputc == 2020:\n",
    "                    print(str(inputa))\n",
    "                    print(str(inputb))\n",
    "                    print(str(inputc))\n",
    "                    print(inputa*inputb*inputc)"
   ]
  },
  {
   "cell_type": "code",
   "execution_count": 16,
   "metadata": {},
   "outputs": [],
   "source": [
    "def main():\n",
    "    lines = get_input_file('input.txt')\n",
    "    input = get_input_from_file_line_sep(lines)\n",
    "    \n",
    "    solve1(input)\n",
    "    solve2(input)"
   ]
  },
  {
   "cell_type": "code",
   "execution_count": 20,
   "metadata": {},
   "outputs": [
    {
     "name": "stdout",
     "output_type": "stream",
     "text": [
      "1329\n",
      "691\n",
      "918339\n",
      "691\n",
      "1329\n",
      "918339\n",
      "24\n",
      "960\n",
      "1036\n",
      "23869440\n",
      "24\n",
      "1036\n",
      "960\n",
      "23869440\n",
      "960\n",
      "24\n",
      "1036\n",
      "23869440\n",
      "960\n",
      "1036\n",
      "24\n",
      "23869440\n",
      "1036\n",
      "24\n",
      "960\n",
      "23869440\n",
      "1036\n",
      "960\n",
      "24\n",
      "23869440\n"
     ]
    }
   ],
   "source": [
    "main()"
   ]
  },
  {
   "cell_type": "code",
   "execution_count": null,
   "metadata": {},
   "outputs": [],
   "source": []
  }
 ],
 "metadata": {
  "kernelspec": {
   "display_name": "Python 3",
   "language": "python",
   "name": "python3"
  },
  "language_info": {
   "codemirror_mode": {
    "name": "ipython",
    "version": 3
   },
   "file_extension": ".py",
   "mimetype": "text/x-python",
   "name": "python",
   "nbconvert_exporter": "python",
   "pygments_lexer": "ipython3",
   "version": "3.7.3"
  }
 },
 "nbformat": 4,
 "nbformat_minor": 2
}
