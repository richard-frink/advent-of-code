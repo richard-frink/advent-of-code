{
 "cells": [
  {
   "cell_type": "code",
   "execution_count": 23,
   "metadata": {},
   "outputs": [],
   "source": [
    "import sys\n",
    "import os\n",
    "import itertools\n",
    "# !conda install --yes --prefix {sys.prefix} -c ulmo urllib3"
   ]
  },
  {
   "cell_type": "code",
   "execution_count": 24,
   "metadata": {},
   "outputs": [],
   "source": [
    "def get_input_file(file):\n",
    "    lines = []\n",
    "    with open(file) as f:\n",
    "       lines = f.readlines()\n",
    "    return lines\n",
    "\n",
    "def get_input_from_file_comma_sep(lines):\n",
    "    line = lines[0]\n",
    "    return [int(num) for num in line.split(',')]\n",
    "\n",
    "def get_int_input_from_file_line_sep(lines):\n",
    "    return [int(value) for value in lines]\n",
    "\n",
    "def get_input_from_file_line_sep(lines):\n",
    "    return [str(value) for value in lines]\n"
   ]
  },
  {
   "cell_type": "code",
   "execution_count": 30,
   "metadata": {},
   "outputs": [],
   "source": [
    "def parse_password_info(raw_password_info):\n",
    "    min = -1\n",
    "    max = -1\n",
    "    letter = \"\"\n",
    "    password = \"\"\n",
    "    s1 = raw_password_info.split(\": \")\n",
    "    password = s1[1]\n",
    "    s2 = s1[0].split(\" \")\n",
    "    letter = s2[1]\n",
    "    s3 = s2[0].split(\"-\")\n",
    "    min = int(s3[0])\n",
    "    max = int(s3[1])\n",
    "    return [min, max, letter, password]\n",
    "\n",
    "def get_set_of_passwords(lines):\n",
    "    return [parse_password_info(raw_password_info) for raw_password_info in lines]"
   ]
  },
  {
   "cell_type": "code",
   "execution_count": 31,
   "metadata": {},
   "outputs": [],
   "source": [
    "def solve1(input):\n",
    "    password_info = get_set_of_passwords(input)\n",
    "    count = 0\n",
    "    for info in password_info:\n",
    "        occurances = info[3].count(info[2])\n",
    "        if info[0] <= occurances and info[1] >= occurances:\n",
    "            count = count + 1\n",
    "    print(count)"
   ]
  },
  {
   "cell_type": "code",
   "execution_count": 38,
   "metadata": {},
   "outputs": [],
   "source": [
    "def solve2(input):\n",
    "    password_info = get_set_of_passwords(input)\n",
    "    count = 0\n",
    "    for info in password_info:\n",
    "        occurances = 0\n",
    "        if info[3][info[0] - 1] == info[2]:\n",
    "            occurances = occurances + 1\n",
    "        if info[3][info[1] - 1] == info[2]:\n",
    "            occurances = occurances + 1\n",
    "        if occurances == 1:\n",
    "            count = count + 1\n",
    "    print(count)"
   ]
  },
  {
   "cell_type": "code",
   "execution_count": 39,
   "metadata": {},
   "outputs": [],
   "source": [
    "def main():\n",
    "    lines = get_input_file('input.txt')\n",
    "    input = get_input_from_file_line_sep(lines)\n",
    "    \n",
    "    solve1(input)\n",
    "    solve2(input)"
   ]
  },
  {
   "cell_type": "code",
   "execution_count": 40,
   "metadata": {},
   "outputs": [
    {
     "name": "stdout",
     "output_type": "stream",
     "text": [
      "628\n",
      "705\n"
     ]
    }
   ],
   "source": [
    "main()"
   ]
  },
  {
   "cell_type": "code",
   "execution_count": null,
   "metadata": {},
   "outputs": [],
   "source": []
  }
 ],
 "metadata": {
  "kernelspec": {
   "display_name": "Python 3",
   "language": "python",
   "name": "python3"
  },
  "language_info": {
   "codemirror_mode": {
    "name": "ipython",
    "version": 3
   },
   "file_extension": ".py",
   "mimetype": "text/x-python",
   "name": "python",
   "nbconvert_exporter": "python",
   "pygments_lexer": "ipython3",
   "version": "3.7.3"
  }
 },
 "nbformat": 4,
 "nbformat_minor": 2
}
