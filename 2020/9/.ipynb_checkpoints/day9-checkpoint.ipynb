{
 "cells": [
  {
   "cell_type": "code",
   "execution_count": 1,
   "metadata": {},
   "outputs": [],
   "source": [
    "import sys\n",
    "import os\n",
    "import itertools\n",
    "# !conda install --yes --prefix {sys.prefix} -c ulmo urllib3\n",
    "import math"
   ]
  },
  {
   "cell_type": "code",
   "execution_count": 2,
   "metadata": {},
   "outputs": [],
   "source": [
    "def get_input_file(file):\n",
    "    lines = []\n",
    "    with open(file) as f:\n",
    "       lines = f.readlines()\n",
    "    return lines\n",
    "\n",
    "def get_input_from_file_comma_sep(lines):\n",
    "    line = lines[0]\n",
    "    return [int(num) for num in line.split(',')]\n",
    "\n",
    "def get_int_input_from_file_line_sep(lines):\n",
    "    return [int(value) for value in lines]\n",
    "\n",
    "def get_int64_input_from_file_line_sep(lines):\n",
    "    return [float(value) for value in lines]\n"
   ]
  },
  {
   "cell_type": "code",
   "execution_count": 3,
   "metadata": {},
   "outputs": [],
   "source": [
    "def check_valid_number(number, last_25):\n",
    "    for i in range(25):\n",
    "        for j in range(25):\n",
    "            if last_25[i] + last_25[j] == number:\n",
    "                return True\n",
    "    \n",
    "    return False\n"
   ]
  },
  {
   "cell_type": "code",
   "execution_count": 4,
   "metadata": {},
   "outputs": [],
   "source": [
    "def solve1(numbers):\n",
    "    for number in range(len(numbers) - 25):\n",
    "        if not check_valid_number(numbers[number + 25], numbers[number:number + 25]):\n",
    "            print(numbers[number + 25])\n",
    "            break\n"
   ]
  },
  {
   "cell_type": "code",
   "execution_count": 5,
   "metadata": {},
   "outputs": [],
   "source": [
    "def solve2(numbers, invalid_number):\n",
    "    done = False\n",
    "    minimum = 0\n",
    "    maximum = 0\n",
    "    for start in range(len(numbers)):\n",
    "        sum = 0\n",
    "        for end in range(len(numbers))[start:len(numbers)]:\n",
    "            sum += numbers[end]\n",
    "            if sum == invalid_number:\n",
    "                minimum = min(numbers[start:end])\n",
    "                maximum = max(numbers[start:end])\n",
    "                done = True\n",
    "                break\n",
    "            if sum > invalid_number:\n",
    "                break\n",
    "        if done:\n",
    "            break\n",
    "    print(f'min {minimum}, max {maximum}, sum {minimum+maximum}')\n"
   ]
  },
  {
   "cell_type": "code",
   "execution_count": 6,
   "metadata": {},
   "outputs": [],
   "source": [
    "def main():\n",
    "    lines = get_input_file('input.txt')\n",
    "    numbers = get_int64_input_from_file_line_sep(lines)\n",
    "    \n",
    "    #test = [\"BFFFBBFRRR\", \"FFFBBBFRRR\", \"BBFFBBFRLL\"]\n",
    "    \n",
    "    #solve1(test)\n",
    "    solve1(numbers)\n",
    "    solve2(numbers, 1504371145)"
   ]
  },
  {
   "cell_type": "code",
   "execution_count": 7,
   "metadata": {},
   "outputs": [
    {
     "name": "stdout",
     "output_type": "stream",
     "text": [
      "1504371145.0\n",
      "min 54418204.0, max 128860283.0, sum 183278487.0\n"
     ]
    }
   ],
   "source": [
    "main()"
   ]
  },
  {
   "cell_type": "code",
   "execution_count": null,
   "metadata": {},
   "outputs": [],
   "source": []
  }
 ],
 "metadata": {
  "kernelspec": {
   "display_name": "Python 3",
   "language": "python",
   "name": "python3"
  },
  "language_info": {
   "codemirror_mode": {
    "name": "ipython",
    "version": 3
   },
   "file_extension": ".py",
   "mimetype": "text/x-python",
   "name": "python",
   "nbconvert_exporter": "python",
   "pygments_lexer": "ipython3",
   "version": "3.7.3"
  }
 },
 "nbformat": 4,
 "nbformat_minor": 2
}
