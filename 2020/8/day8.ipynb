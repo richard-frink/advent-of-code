{
 "cells": [
  {
   "cell_type": "code",
   "execution_count": 1,
   "metadata": {},
   "outputs": [],
   "source": [
    "import sys\n",
    "import os\n",
    "import itertools\n",
    "# !conda install --yes --prefix {sys.prefix} -c ulmo urllib3\n",
    "import math"
   ]
  },
  {
   "cell_type": "code",
   "execution_count": 2,
   "metadata": {},
   "outputs": [],
   "source": [
    "def get_input_file(file):\n",
    "    lines = []\n",
    "    with open(file) as f:\n",
    "       lines = f.readlines()\n",
    "    return lines\n",
    "\n",
    "def get_input_from_file_comma_sep(lines):\n",
    "    line = lines[0]\n",
    "    return [int(num) for num in line.split(',')]\n",
    "\n",
    "def get_int_input_from_file_line_sep(lines):\n",
    "    return [int(value) for value in lines]\n"
   ]
  },
  {
   "cell_type": "code",
   "execution_count": 3,
   "metadata": {},
   "outputs": [],
   "source": [
    "def get_op_code_dictionary(raw_lines):\n",
    "    op_codes = {}\n",
    "    i = 0\n",
    "    for line in raw_lines:\n",
    "        line = line.replace(\"\\n\", \"\")\n",
    "        op_codes[i] = line.split(\" \")\n",
    "        i +=1\n",
    "    \n",
    "    return op_codes\n"
   ]
  },
  {
   "cell_type": "code",
   "execution_count": 4,
   "metadata": {},
   "outputs": [],
   "source": [
    "def solve1(op_codes):\n",
    "    acc = 0\n",
    "    pointer = 0\n",
    "    visited_indexes = []\n",
    "    while not pointer in visited_indexes:\n",
    "        visited_indexes.append(pointer)\n",
    "        op = op_codes[pointer]\n",
    "        code = op[0]\n",
    "        value = int(op[1].replace(\"+\", \"\"))\n",
    "        if code == \"nop\":\n",
    "            pointer += 1\n",
    "            continue\n",
    "        if code == \"acc\":\n",
    "            acc += value\n",
    "            pointer += 1\n",
    "            continue\n",
    "        if code == \"jmp\":\n",
    "            pointer += value\n",
    "            continue\n",
    "    \n",
    "    print(acc)"
   ]
  },
  {
   "cell_type": "code",
   "execution_count": 5,
   "metadata": {},
   "outputs": [],
   "source": [
    "def testing_jmp_nop(op_codes):\n",
    "    acc = 0\n",
    "    pointer = 0\n",
    "    visited_indexes = []\n",
    "    while not pointer in visited_indexes:\n",
    "        if pointer == 610:\n",
    "            print(f'{pointer}, {acc}, {op_codes[pointer]}')\n",
    "        visited_indexes.append(pointer)\n",
    "        op = op_codes[pointer]\n",
    "        code = op[0]\n",
    "        value = int(op[1].replace(\"+\", \"\"))\n",
    "        if code == \"nop\":\n",
    "            pointer += 1\n",
    "            continue\n",
    "        if code == \"acc\":\n",
    "            acc += value\n",
    "            pointer += 1\n",
    "            continue\n",
    "        if code == \"jmp\":\n",
    "            pointer += value\n",
    "            continue\n",
    "\n",
    "import copy\n",
    "\n",
    "def solve2(op_codes):\n",
    "    for key in op_codes:\n",
    "        if op_codes[key][0] == \"acc\":\n",
    "            continue\n",
    "        new_ops = copy.deepcopy(op_codes)\n",
    "        if new_ops[key][0] == \"jmp\":\n",
    "            new_code = new_ops[key]\n",
    "            new_code[0] = \"nop\"\n",
    "            new_ops[key] = new_code\n",
    "        else:\n",
    "            new_code = new_ops[key]\n",
    "            new_code[0] = \"jmp\"\n",
    "            new_ops[key] = new_code\n",
    "        testing_jmp_nop(new_ops)\n"
   ]
  },
  {
   "cell_type": "code",
   "execution_count": 6,
   "metadata": {},
   "outputs": [],
   "source": [
    "def main():\n",
    "    lines = get_input_file('input.txt')\n",
    "    op_codes = get_op_code_dictionary(lines)\n",
    "    \n",
    "    #test = [\"BFFFBBFRRR\", \"FFFBBBFRRR\", \"BBFFBBFRLL\"]\n",
    "    \n",
    "    #solve1(test)\n",
    "    solve1(op_codes)\n",
    "    solve2(op_codes)"
   ]
  },
  {
   "cell_type": "code",
   "execution_count": 7,
   "metadata": {},
   "outputs": [
    {
     "name": "stdout",
     "output_type": "stream",
     "text": [
      "1941\n",
      "610, 2096, ['jmp', '+1']\n"
     ]
    },
    {
     "ename": "KeyError",
     "evalue": "611",
     "output_type": "error",
     "traceback": [
      "\u001b[1;31m---------------------------------------------------------------------------\u001b[0m",
      "\u001b[1;31mKeyError\u001b[0m                                  Traceback (most recent call last)",
      "\u001b[1;32m<ipython-input-7-263240bbee7e>\u001b[0m in \u001b[0;36m<module>\u001b[1;34m\u001b[0m\n\u001b[1;32m----> 1\u001b[1;33m \u001b[0mmain\u001b[0m\u001b[1;33m(\u001b[0m\u001b[1;33m)\u001b[0m\u001b[1;33m\u001b[0m\u001b[1;33m\u001b[0m\u001b[0m\n\u001b[0m",
      "\u001b[1;32m<ipython-input-6-ac8de9b93b59>\u001b[0m in \u001b[0;36mmain\u001b[1;34m()\u001b[0m\n\u001b[0;32m      7\u001b[0m     \u001b[1;31m#solve1(test)\u001b[0m\u001b[1;33m\u001b[0m\u001b[1;33m\u001b[0m\u001b[1;33m\u001b[0m\u001b[0m\n\u001b[0;32m      8\u001b[0m     \u001b[0msolve1\u001b[0m\u001b[1;33m(\u001b[0m\u001b[0mop_codes\u001b[0m\u001b[1;33m)\u001b[0m\u001b[1;33m\u001b[0m\u001b[1;33m\u001b[0m\u001b[0m\n\u001b[1;32m----> 9\u001b[1;33m     \u001b[0msolve2\u001b[0m\u001b[1;33m(\u001b[0m\u001b[0mop_codes\u001b[0m\u001b[1;33m)\u001b[0m\u001b[1;33m\u001b[0m\u001b[1;33m\u001b[0m\u001b[0m\n\u001b[0m",
      "\u001b[1;32m<ipython-input-5-733d1bd0fef5>\u001b[0m in \u001b[0;36msolve2\u001b[1;34m(op_codes)\u001b[0m\n\u001b[0;32m     36\u001b[0m             \u001b[0mnew_code\u001b[0m\u001b[1;33m[\u001b[0m\u001b[1;36m0\u001b[0m\u001b[1;33m]\u001b[0m \u001b[1;33m=\u001b[0m \u001b[1;34m\"jmp\"\u001b[0m\u001b[1;33m\u001b[0m\u001b[1;33m\u001b[0m\u001b[0m\n\u001b[0;32m     37\u001b[0m             \u001b[0mnew_ops\u001b[0m\u001b[1;33m[\u001b[0m\u001b[0mkey\u001b[0m\u001b[1;33m]\u001b[0m \u001b[1;33m=\u001b[0m \u001b[0mnew_code\u001b[0m\u001b[1;33m\u001b[0m\u001b[1;33m\u001b[0m\u001b[0m\n\u001b[1;32m---> 38\u001b[1;33m         \u001b[0mtesting_jmp_nop\u001b[0m\u001b[1;33m(\u001b[0m\u001b[0mnew_ops\u001b[0m\u001b[1;33m)\u001b[0m\u001b[1;33m\u001b[0m\u001b[1;33m\u001b[0m\u001b[0m\n\u001b[0m",
      "\u001b[1;32m<ipython-input-5-733d1bd0fef5>\u001b[0m in \u001b[0;36mtesting_jmp_nop\u001b[1;34m(op_codes)\u001b[0m\n\u001b[0;32m      7\u001b[0m             \u001b[0mprint\u001b[0m\u001b[1;33m(\u001b[0m\u001b[1;34mf'{pointer}, {acc}, {op_codes[pointer]}'\u001b[0m\u001b[1;33m)\u001b[0m\u001b[1;33m\u001b[0m\u001b[1;33m\u001b[0m\u001b[0m\n\u001b[0;32m      8\u001b[0m         \u001b[0mvisited_indexes\u001b[0m\u001b[1;33m.\u001b[0m\u001b[0mappend\u001b[0m\u001b[1;33m(\u001b[0m\u001b[0mpointer\u001b[0m\u001b[1;33m)\u001b[0m\u001b[1;33m\u001b[0m\u001b[1;33m\u001b[0m\u001b[0m\n\u001b[1;32m----> 9\u001b[1;33m         \u001b[0mop\u001b[0m \u001b[1;33m=\u001b[0m \u001b[0mop_codes\u001b[0m\u001b[1;33m[\u001b[0m\u001b[0mpointer\u001b[0m\u001b[1;33m]\u001b[0m\u001b[1;33m\u001b[0m\u001b[1;33m\u001b[0m\u001b[0m\n\u001b[0m\u001b[0;32m     10\u001b[0m         \u001b[0mcode\u001b[0m \u001b[1;33m=\u001b[0m \u001b[0mop\u001b[0m\u001b[1;33m[\u001b[0m\u001b[1;36m0\u001b[0m\u001b[1;33m]\u001b[0m\u001b[1;33m\u001b[0m\u001b[1;33m\u001b[0m\u001b[0m\n\u001b[0;32m     11\u001b[0m         \u001b[0mvalue\u001b[0m \u001b[1;33m=\u001b[0m \u001b[0mint\u001b[0m\u001b[1;33m(\u001b[0m\u001b[0mop\u001b[0m\u001b[1;33m[\u001b[0m\u001b[1;36m1\u001b[0m\u001b[1;33m]\u001b[0m\u001b[1;33m.\u001b[0m\u001b[0mreplace\u001b[0m\u001b[1;33m(\u001b[0m\u001b[1;34m\"+\"\u001b[0m\u001b[1;33m,\u001b[0m \u001b[1;34m\"\"\u001b[0m\u001b[1;33m)\u001b[0m\u001b[1;33m)\u001b[0m\u001b[1;33m\u001b[0m\u001b[1;33m\u001b[0m\u001b[0m\n",
      "\u001b[1;31mKeyError\u001b[0m: 611"
     ]
    }
   ],
   "source": [
    "main()"
   ]
  },
  {
   "cell_type": "code",
   "execution_count": null,
   "metadata": {},
   "outputs": [],
   "source": []
  }
 ],
 "metadata": {
  "kernelspec": {
   "display_name": "Python 3",
   "language": "python",
   "name": "python3"
  },
  "language_info": {
   "codemirror_mode": {
    "name": "ipython",
    "version": 3
   },
   "file_extension": ".py",
   "mimetype": "text/x-python",
   "name": "python",
   "nbconvert_exporter": "python",
   "pygments_lexer": "ipython3",
   "version": "3.7.3"
  }
 },
 "nbformat": 4,
 "nbformat_minor": 2
}
