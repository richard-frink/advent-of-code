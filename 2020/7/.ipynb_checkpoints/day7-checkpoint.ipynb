{
 "cells": [
  {
   "cell_type": "code",
   "execution_count": 1,
   "metadata": {},
   "outputs": [],
   "source": [
    "import sys\n",
    "import os\n",
    "import itertools\n",
    "# !conda install --yes --prefix {sys.prefix} -c ulmo urllib3\n",
    "import math"
   ]
  },
  {
   "cell_type": "code",
   "execution_count": 2,
   "metadata": {},
   "outputs": [],
   "source": [
    "def get_input_file(file):\n",
    "    lines = []\n",
    "    with open(file) as f:\n",
    "       lines = f.readlines()\n",
    "    return lines\n",
    "\n",
    "def get_input_from_file_comma_sep(lines):\n",
    "    line = lines[0]\n",
    "    return [int(num) for num in line.split(',')]\n",
    "\n",
    "def get_int_input_from_file_line_sep(lines):\n",
    "    return [int(value) for value in lines]\n"
   ]
  },
  {
   "cell_type": "code",
   "execution_count": 3,
   "metadata": {},
   "outputs": [],
   "source": [
    "def get_bag_dictionary(raw_lines):\n",
    "    bags = {}\n",
    "    for line in raw_lines:\n",
    "        line = line.replace(\"\\n\", \"\").replace(\" bags\", \"\").replace(\" bag\", \"\").replace(\".\", \"\")\n",
    "        elements = line.split(\" contain \")\n",
    "        root = elements[0]\n",
    "        raw_bags_inside = elements[1]\n",
    "        if raw_bags_inside == \"no other\":\n",
    "            bags[root] = []\n",
    "            continue\n",
    "        bags_inside = []\n",
    "        if \",\" in raw_bags_inside:\n",
    "            bags_inside = raw_bags_inside.split(\", \")\n",
    "        else:\n",
    "            bags_inside.append(raw_bags_inside)\n",
    "        nested_bags = []\n",
    "        for bag in bags_inside:\n",
    "            count = bag[0]\n",
    "            color = bag[2:]\n",
    "            nested_bags.append((color,int(count)))\n",
    "        bags[root] = nested_bags\n",
    "    \n",
    "    return bags\n"
   ]
  },
  {
   "cell_type": "code",
   "execution_count": 4,
   "metadata": {},
   "outputs": [],
   "source": [
    "def check_bags_for_shiny_gold(bags, key):\n",
    "    nested_bags = bags[key]\n",
    "    has_shiny = False\n",
    "    for bag in nested_bags:\n",
    "        if bag[0] == \"shiny gold\":\n",
    "            return True\n",
    "        if not has_shiny:\n",
    "            has_shiny = check_bags_for_shiny_gold(bags, bag[0])\n",
    "        else:\n",
    "            return has_shiny\n",
    "    return has_shiny\n",
    "\n",
    "def solve1(bags):\n",
    "    count = 0\n",
    "    \n",
    "    for key in bags.keys():\n",
    "        if check_bags_for_shiny_gold(bags, key):\n",
    "            count = count + 1\n",
    "    \n",
    "    print(count)"
   ]
  },
  {
   "cell_type": "code",
   "execution_count": 5,
   "metadata": {},
   "outputs": [],
   "source": [
    "def count_nested_bags_for_key(bags, key):\n",
    "    nested_bags = bags[key]\n",
    "    count = 0\n",
    "    for bag in nested_bags:\n",
    "        nested_bag_count = count_nested_bags_for_key(bags, bag[0])\n",
    "        if nested_bag_count == 0:\n",
    "            count += bag[1]\n",
    "        else:\n",
    "            count += bag[1]\n",
    "            count += nested_bag_count*bag[1]\n",
    "    \n",
    "    return count\n",
    "\n",
    "def solve2(bags):\n",
    "    print(count_nested_bags_for_key(bags, \"shiny gold\"))"
   ]
  },
  {
   "cell_type": "code",
   "execution_count": 6,
   "metadata": {},
   "outputs": [],
   "source": [
    "def main():\n",
    "    raw_bag_nonsense = get_input_file('input.txt')\n",
    "    bags = get_bag_dictionary(raw_bag_nonsense)\n",
    "    \n",
    "    #test = [\"BFFFBBFRRR\", \"FFFBBBFRRR\", \"BBFFBBFRLL\"]\n",
    "    \n",
    "    #solve1(test)\n",
    "    solve1(bags)\n",
    "    solve2(bags)"
   ]
  },
  {
   "cell_type": "code",
   "execution_count": 7,
   "metadata": {},
   "outputs": [
    {
     "name": "stdout",
     "output_type": "stream",
     "text": [
      "259\n",
      "45018\n"
     ]
    }
   ],
   "source": [
    "main()"
   ]
  },
  {
   "cell_type": "code",
   "execution_count": null,
   "metadata": {},
   "outputs": [],
   "source": []
  }
 ],
 "metadata": {
  "kernelspec": {
   "display_name": "Python 3",
   "language": "python",
   "name": "python3"
  },
  "language_info": {
   "codemirror_mode": {
    "name": "ipython",
    "version": 3
   },
   "file_extension": ".py",
   "mimetype": "text/x-python",
   "name": "python",
   "nbconvert_exporter": "python",
   "pygments_lexer": "ipython3",
   "version": "3.7.3"
  }
 },
 "nbformat": 4,
 "nbformat_minor": 2
}
