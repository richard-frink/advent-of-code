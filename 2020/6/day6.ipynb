{
 "cells": [
  {
   "cell_type": "code",
   "execution_count": 1,
   "metadata": {},
   "outputs": [],
   "source": [
    "import sys\n",
    "import os\n",
    "import itertools\n",
    "# !conda install --yes --prefix {sys.prefix} -c ulmo urllib3\n",
    "import math"
   ]
  },
  {
   "cell_type": "code",
   "execution_count": 2,
   "metadata": {},
   "outputs": [],
   "source": [
    "def get_input_file(file):\n",
    "    lines = []\n",
    "    with open(file) as f:\n",
    "       lines = f.readlines()\n",
    "    return lines\n",
    "\n",
    "def get_input_from_file_comma_sep(lines):\n",
    "    line = lines[0]\n",
    "    return [int(num) for num in line.split(',')]\n",
    "\n",
    "def get_int_input_from_file_line_sep(lines):\n",
    "    return [int(value) for value in lines]\n"
   ]
  },
  {
   "cell_type": "code",
   "execution_count": 3,
   "metadata": {},
   "outputs": [],
   "source": [
    "questions = \"qwertyuiopasdfghjklzxcvbnm\"\n",
    "\n",
    "def get_grouped_sets(raw_answers):\n",
    "    grouped_sets = []\n",
    "    working_group = []\n",
    "    for answer_line in raw_answers:\n",
    "        if answer_line == \"\\n\":\n",
    "            grouped_sets.append(set(working_group))\n",
    "            working_group = []\n",
    "            continue\n",
    "        for letter in answer_line.replace(\"\\n\",\"\"):\n",
    "            working_group.append(letter)\n",
    "    \n",
    "    return grouped_sets\n",
    "\n",
    "\n",
    "def get_grouped_answers_per_person(raw_answers):\n",
    "    grouped_answers = []\n",
    "    working_group = []\n",
    "    person = []\n",
    "    for answer_line in raw_answers:\n",
    "        if answer_line == \"\\n\":\n",
    "            grouped_answers.append(working_group)\n",
    "            working_group = []\n",
    "            person = []\n",
    "            continue\n",
    "        person = []\n",
    "        for letter in answer_line.replace(\"\\n\",\"\"):\n",
    "            person.append(letter)\n",
    "        working_group.append(person)\n",
    "    \n",
    "    return grouped_answers"
   ]
  },
  {
   "cell_type": "code",
   "execution_count": 4,
   "metadata": {},
   "outputs": [],
   "source": [
    "def solve1(grouped_answers):\n",
    "    count = 0\n",
    "    \n",
    "    for answers in grouped_answers:\n",
    "        count = count + len(answers)\n",
    "    \n",
    "    print(count)"
   ]
  },
  {
   "cell_type": "code",
   "execution_count": 5,
   "metadata": {},
   "outputs": [],
   "source": [
    "def solve2(grouped_answers):\n",
    "    count = 0\n",
    "    \n",
    "    for group in grouped_answers:\n",
    "        for q in questions:\n",
    "            valid = True\n",
    "            for responses_by_person in group:\n",
    "                if not valid:\n",
    "                    continue\n",
    "                if not q in responses_by_person:\n",
    "                    valid = False\n",
    "            if valid:\n",
    "                count = count + 1\n",
    "    \n",
    "    print(count)"
   ]
  },
  {
   "cell_type": "code",
   "execution_count": 6,
   "metadata": {},
   "outputs": [],
   "source": [
    "def main():\n",
    "    raw_answers = get_input_file('input.txt')\n",
    "    grouped_sets_of_answers = get_grouped_sets(raw_answers)\n",
    "    grouped_answers_per_person = get_grouped_answers_per_person(raw_answers)\n",
    "    \n",
    "    #test = [\"BFFFBBFRRR\", \"FFFBBBFRRR\", \"BBFFBBFRLL\"]\n",
    "    \n",
    "    #solve1(test)\n",
    "    solve1(grouped_sets_of_answers)\n",
    "    solve2(grouped_answers_per_person)"
   ]
  },
  {
   "cell_type": "code",
   "execution_count": 7,
   "metadata": {},
   "outputs": [
    {
     "name": "stdout",
     "output_type": "stream",
     "text": [
      "6161\n",
      "2971\n"
     ]
    }
   ],
   "source": [
    "main()"
   ]
  },
  {
   "cell_type": "code",
   "execution_count": null,
   "metadata": {},
   "outputs": [],
   "source": []
  }
 ],
 "metadata": {
  "kernelspec": {
   "display_name": "Python 3",
   "language": "python",
   "name": "python3"
  },
  "language_info": {
   "codemirror_mode": {
    "name": "ipython",
    "version": 3
   },
   "file_extension": ".py",
   "mimetype": "text/x-python",
   "name": "python",
   "nbconvert_exporter": "python",
   "pygments_lexer": "ipython3",
   "version": "3.7.3"
  }
 },
 "nbformat": 4,
 "nbformat_minor": 2
}
