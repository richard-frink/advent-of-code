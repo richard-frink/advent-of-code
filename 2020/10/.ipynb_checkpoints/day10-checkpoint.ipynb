{
 "cells": [
  {
   "cell_type": "code",
   "execution_count": 1,
   "metadata": {},
   "outputs": [],
   "source": [
    "import sys\n",
    "import os\n",
    "import itertools\n",
    "# !conda install --yes --prefix {sys.prefix} -c ulmo urllib3\n",
    "import math"
   ]
  },
  {
   "cell_type": "code",
   "execution_count": 2,
   "metadata": {},
   "outputs": [],
   "source": [
    "def get_input_file(file):\n",
    "    lines = []\n",
    "    with open(file) as f:\n",
    "       lines = f.readlines()\n",
    "    return lines\n",
    "\n",
    "def get_input_from_file_comma_sep(lines):\n",
    "    line = lines[0]\n",
    "    return [int(num) for num in line.split(',')]\n",
    "\n",
    "def get_int_input_from_file_line_sep(lines):\n",
    "    return [int(value) for value in lines]\n",
    "\n",
    "def get_int64_input_from_file_line_sep(lines):\n",
    "    return [float(value) for value in lines]\n"
   ]
  },
  {
   "cell_type": "code",
   "execution_count": 3,
   "metadata": {},
   "outputs": [],
   "source": [
    "def solve1(joltages):\n",
    "    joltages.append(max(joltages)+3)\n",
    "    joltages.append(0)\n",
    "    joltages.sort()\n",
    "    \n",
    "    one_jolts = 0\n",
    "    three_jolts = 0\n",
    "    previous_jolt = -1\n",
    "    \n",
    "    for jolt in joltages:\n",
    "        if previous_jolt == -1:\n",
    "            previous_jolt = jolt\n",
    "            continue\n",
    "        diff = jolt - previous_jolt\n",
    "        if diff == 1:\n",
    "            one_jolts += 1\n",
    "        if diff == 3:\n",
    "            three_jolts += 1\n",
    "        previous_jolt = jolt\n",
    "    \n",
    "    \n",
    "    print(one_jolts*three_jolts)\n"
   ]
  },
  {
   "cell_type": "code",
   "execution_count": 4,
   "metadata": {},
   "outputs": [],
   "source": [
    "def is_list_valid(joltages):\n",
    "    previous_jolt = -1\n",
    "    \n",
    "    for jolt in joltages:\n",
    "        if previous_jolt == -1:\n",
    "            previous_jolt = jolt\n",
    "            continue\n",
    "        diff = jolt - previous_jolt\n",
    "        if diff > 3:\n",
    "            return False\n",
    "        previous_jolt = jolt\n",
    "    return True\n",
    "\n",
    "def solve2(joltages):\n",
    "    sol = {0:1}\n",
    "    joltages = joltages[1:]\n",
    "    for line in sorted(joltages):\n",
    "        sol[line] = 0\n",
    "        if line - 1 in sol:\n",
    "            sol[line]+=sol[line-1]\n",
    "        if line - 2 in sol:\n",
    "            sol[line]+=sol[line-2]\n",
    "        if line - 3 in sol:\n",
    "            sol[line]+=sol[line-3]\n",
    "    \n",
    "    print(sol[max(joltages)])"
   ]
  },
  {
   "cell_type": "code",
   "execution_count": 5,
   "metadata": {},
   "outputs": [],
   "source": [
    "def main():\n",
    "    lines = get_input_file('input.txt')\n",
    "    joltages = get_int_input_from_file_line_sep(lines)\n",
    "    \n",
    "    #test = [16,10,15,5,1,11,7,19,6,12,4]\n",
    "    \n",
    "    solve1(joltages)\n",
    "    solve2(joltages)"
   ]
  },
  {
   "cell_type": "code",
   "execution_count": 6,
   "metadata": {},
   "outputs": [
    {
     "name": "stdout",
     "output_type": "stream",
     "text": [
      "2812\n",
      "386869246296064\n"
     ]
    }
   ],
   "source": [
    "main()"
   ]
  },
  {
   "cell_type": "code",
   "execution_count": null,
   "metadata": {},
   "outputs": [],
   "source": []
  }
 ],
 "metadata": {
  "kernelspec": {
   "display_name": "Python 3",
   "language": "python",
   "name": "python3"
  },
  "language_info": {
   "codemirror_mode": {
    "name": "ipython",
    "version": 3
   },
   "file_extension": ".py",
   "mimetype": "text/x-python",
   "name": "python",
   "nbconvert_exporter": "python",
   "pygments_lexer": "ipython3",
   "version": "3.7.3"
  }
 },
 "nbformat": 4,
 "nbformat_minor": 2
}
