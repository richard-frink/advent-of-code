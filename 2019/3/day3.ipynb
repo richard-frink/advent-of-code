{
 "cells": [
  {
   "cell_type": "code",
   "execution_count": 1,
   "metadata": {},
   "outputs": [],
   "source": [
    "import sys\n",
    "import os\n",
    "import itertools\n",
    "# !conda install --yes --prefix {sys.prefix} -c ulmo urllib3"
   ]
  },
  {
   "cell_type": "code",
   "execution_count": 2,
   "metadata": {},
   "outputs": [],
   "source": [
    "def get_input_file(file):\n",
    "    lines = []\n",
    "    with open(file) as f:\n",
    "       lines = f.readlines()\n",
    "    return lines[0], lines[1]\n",
    "\n",
    "def get_input_from_lines(line1, line2):\n",
    "    wire1 = [[path[0], int(path[1:])] for path in line1.split(',')]\n",
    "    wire2 = [[path[0], int(path[1:])] for path in line2.split(',')]\n",
    "    return wire1, wire2"
   ]
  },
  {
   "cell_type": "code",
   "execution_count": 66,
   "metadata": {},
   "outputs": [],
   "source": [
    "def traverse_path(x_apply, y_apply, x_start, y_start, distance):\n",
    "    traversals = []\n",
    "    for i in range(1, distance + 1, 1):\n",
    "        x_start += x_apply\n",
    "        y_start += y_apply\n",
    "        traversals.append([x_start, y_start])\n",
    "    return x_start, y_start, traversals\n",
    "    \n",
    "def traverse_action(action, x, y):\n",
    "    direction = action[0]\n",
    "    distance = action[1]\n",
    "    if direction == \"U\":\n",
    "        return traverse_path(0, 1, x, y, distance)\n",
    "    if direction == \"D\":\n",
    "        return traverse_path(0, -1, x, y, distance)\n",
    "    if direction == \"L\":\n",
    "        return traverse_path(-1, 0, x, y, distance)\n",
    "    if direction == \"R\":\n",
    "        return traverse_path(1, 0, x, y, distance)\n",
    "\n",
    "def traverse_wire(wire):\n",
    "    x = 0\n",
    "    y = 0\n",
    "    grouped_coordinates = []\n",
    "    for action in wire:\n",
    "        new_x, new_y, traversals = traverse_action(action, x, y)\n",
    "        x = new_x\n",
    "        y = new_y\n",
    "        grouped_coordinates.append(traversals)\n",
    "    coordinates = [str(coordinate[0]) + ',' + str(coordinate[1]) for group in grouped_coordinates for coordinate in group]\n",
    "    return coordinates\n",
    "    \n",
    "def solve1(wire1, wire2):\n",
    "    intersections = []\n",
    "    wire1_traversals = []\n",
    "    wire2_traversals = []\n",
    "\n",
    "    wire1_traversals = set(traverse_wire(wire1))\n",
    "    wire2_traversals = traverse_wire(wire2)\n",
    "    \n",
    "    intersections = filter(lambda coordinate: coordinate in wire1_traversals, wire2_traversals)\n",
    "    intersections = map(lambda i: i.split(','), intersections)\n",
    "    intersections = map(lambda i: [int(i[0]), int(i[1])], intersections)\n",
    "    distances = [(abs(intersection[0]) + abs(intersection[1])) for intersection in intersections]\n",
    "    print(min(distances))"
   ]
  },
  {
   "cell_type": "code",
   "execution_count": 86,
   "metadata": {},
   "outputs": [],
   "source": [
    "def solve2(wire1, wire2):\n",
    "    intersections = []\n",
    "    wire1_traversals = []\n",
    "    wire2_traversals = []\n",
    "\n",
    "    wire1_traversals_list = traverse_wire(wire1)\n",
    "    wire1_traversals = set(wire1_traversals_list)\n",
    "    wire2_traversals = traverse_wire(wire2)\n",
    "    \n",
    "    intersections = filter(lambda coordinate: coordinate in wire1_traversals, wire2_traversals)\n",
    "    \n",
    "    steps = map(lambda intersection: wire1_traversals_list.index(intersection) + wire2_traversals.index(intersection), intersections)\n",
    "    print(min([step for step in steps]) + 2) # adding 2 because I cut off the first step of both wire in my list"
   ]
  },
  {
   "cell_type": "code",
   "execution_count": 87,
   "metadata": {},
   "outputs": [],
   "source": [
    "def main():\n",
    "    line1, line2 = get_input_file('input.txt')\n",
    "    wire1, wire2 = get_input_from_lines(line1, line2)\n",
    "    \n",
    "    tests = [['R75,D30,R83,U83,L12,D49,R71,U7,L72','U62,R66,U55,R34,D71,R55,D58,R83'],\n",
    "             ['R98,U47,R26,D63,R33,U87,L62,D20,R33,U53,R51','U98,R91,D20,R16,D67,R40,U7,R15,U6,R7']]\n",
    "    \n",
    "    for test in tests:\n",
    "        test_wire1, test_wire2 = get_input_from_lines(test[0], test[1])\n",
    "        #solve1(test_wire1, test_wire2)\n",
    "        solve2(test_wire1, test_wire2)\n",
    "    \n",
    "    solve1(wire1, wire2)\n",
    "    solve2(wire1, wire2)"
   ]
  },
  {
   "cell_type": "code",
   "execution_count": 88,
   "metadata": {},
   "outputs": [
    {
     "name": "stdout",
     "output_type": "stream",
     "text": [
      "610\n",
      "410\n",
      "403\n",
      "4158\n"
     ]
    }
   ],
   "source": [
    "main()"
   ]
  },
  {
   "cell_type": "code",
   "execution_count": null,
   "metadata": {},
   "outputs": [],
   "source": []
  },
  {
   "cell_type": "code",
   "execution_count": null,
   "metadata": {},
   "outputs": [],
   "source": []
  }
 ],
 "metadata": {
  "kernelspec": {
   "display_name": "Python 3",
   "language": "python",
   "name": "python3"
  },
  "language_info": {
   "codemirror_mode": {
    "name": "ipython",
    "version": 3
   },
   "file_extension": ".py",
   "mimetype": "text/x-python",
   "name": "python",
   "nbconvert_exporter": "python",
   "pygments_lexer": "ipython3",
   "version": "3.7.3"
  }
 },
 "nbformat": 4,
 "nbformat_minor": 2
}
