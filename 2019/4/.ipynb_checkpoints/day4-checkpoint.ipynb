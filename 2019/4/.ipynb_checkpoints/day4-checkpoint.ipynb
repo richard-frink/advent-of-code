{
 "cells": [
  {
   "cell_type": "code",
   "execution_count": 1,
   "metadata": {},
   "outputs": [],
   "source": [
    "import sys\n",
    "import os\n",
    "import itertools\n",
    "# !conda install --yes --prefix {sys.prefix} -c ulmo urllib3"
   ]
  },
  {
   "cell_type": "code",
   "execution_count": 153,
   "metadata": {},
   "outputs": [],
   "source": [
    "def has_adjacent_same_digits(num):\n",
    "    return (int(num[0]) == int(num[1])) or (int(num[1]) == int(num[2])) or (int(num[2]) == int(num[3])) or (int(num[3]) == int(num[4])) or (int(num[4]) == int(num[5]))\n",
    "\n",
    "def should_keep_number(num):\n",
    "    num_string = str(num)\n",
    "    return has_adjacent_same_digits(num_string) and (int(num_string[0]) <= int(num_string[1])) and (int(num_string[1]) <= int(num_string[2])) and (int(num_string[2]) <= int(num_string[3])) and (int(num_string[3]) <= int(num_string[4])) and (int(num_string[4]) <= int(num_string[5]))\n",
    "\n",
    "def solve1(min, max):\n",
    "    all_numbers = range(min, max, 1)\n",
    "    \n",
    "    valid_numbers = filter(should_keep_number, all_numbers)\n",
    "    \n",
    "    print(len(list(valid_numbers)))"
   ]
  },
  {
   "cell_type": "code",
   "execution_count": 157,
   "metadata": {},
   "outputs": [],
   "source": [
    "def has_adjacent_same_digits2(num):\n",
    "    zero = (int(num[0]) == int(num[1])) and (int(num[1]) != int(num[2]))\n",
    "    one  = (int(num[0]) != int(num[1])) and (int(num[1]) == int(num[2])) and (int(num[2]) != int(num[3]))\n",
    "    two  = (int(num[1]) != int(num[2])) and (int(num[2]) == int(num[3])) and (int(num[3]) != int(num[4]))\n",
    "    three= (int(num[2]) != int(num[3])) and (int(num[3]) == int(num[4])) and (int(num[4]) != int(num[5]))\n",
    "    four = (int(num[3]) != int(num[4])) and (int(num[4]) == int(num[5]))\n",
    "    return zero or one or two or three or four\n",
    "\n",
    "def should_keep_number2(num):\n",
    "    num_string = str(num)\n",
    "    return has_adjacent_same_digits2(num_string) and (int(num_string[0]) <= int(num_string[1])) and (int(num_string[1]) <= int(num_string[2])) and (int(num_string[2]) <= int(num_string[3])) and (int(num_string[3]) <= int(num_string[4])) and (int(num_string[4]) <= int(num_string[5]))\n",
    "\n",
    "def solve2(min, max):\n",
    "    all_numbers = range(min, max, 1)\n",
    "    \n",
    "    valid_numbers = filter(should_keep_number2, all_numbers)\n",
    "    \n",
    "    print(len(list(valid_numbers)))"
   ]
  },
  {
   "cell_type": "code",
   "execution_count": 161,
   "metadata": {},
   "outputs": [
    {
     "name": "stdout",
     "output_type": "stream",
     "text": [
      "False\n"
     ]
    }
   ],
   "source": [
    "print(has_adjacent_same_digits2('222212'))"
   ]
  },
  {
   "cell_type": "code",
   "execution_count": 162,
   "metadata": {},
   "outputs": [],
   "source": [
    "def main():\n",
    "    tests = [[111111,111222],\n",
    "             [222344,355567]]\n",
    "    \n",
    "    for test in tests:\n",
    "        min, max = test[0], test[1]\n",
    "        solve1(min, max)\n",
    "        solve2(min, max)\n",
    "    \n",
    "    min, max = 248345,746315\n",
    "    solve1(min, max)\n",
    "    solve2(min, max)"
   ]
  },
  {
   "cell_type": "code",
   "execution_count": 163,
   "metadata": {},
   "outputs": [
    {
     "name": "stdout",
     "output_type": "stream",
     "text": [
      "45\n",
      "8\n",
      "1065\n",
      "776\n",
      "1019\n",
      "660\n"
     ]
    }
   ],
   "source": [
    "main()"
   ]
  },
  {
   "cell_type": "code",
   "execution_count": null,
   "metadata": {},
   "outputs": [],
   "source": []
  }
 ],
 "metadata": {
  "kernelspec": {
   "display_name": "Python 3",
   "language": "python",
   "name": "python3"
  },
  "language_info": {
   "codemirror_mode": {
    "name": "ipython",
    "version": 3
   },
   "file_extension": ".py",
   "mimetype": "text/x-python",
   "name": "python",
   "nbconvert_exporter": "python",
   "pygments_lexer": "ipython3",
   "version": "3.7.3"
  }
 },
 "nbformat": 4,
 "nbformat_minor": 2
}
