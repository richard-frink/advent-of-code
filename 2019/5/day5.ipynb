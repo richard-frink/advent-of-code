{
 "cells": [
  {
   "cell_type": "code",
   "execution_count": 1,
   "metadata": {},
   "outputs": [],
   "source": [
    "import sys\n",
    "import os\n",
    "import itertools\n",
    "# !conda install --yes --prefix {sys.prefix} -c ulmo urllib3"
   ]
  },
  {
   "cell_type": "code",
   "execution_count": 2,
   "metadata": {},
   "outputs": [],
   "source": [
    "def get_input_file(file):\n",
    "    lines = []\n",
    "    with open(file) as f:\n",
    "       lines = f.readlines()\n",
    "    return lines\n",
    "\n",
    "def get_input_from_file(lines):\n",
    "    line = lines[0]\n",
    "    return [int(num) for num in line.split(',')]\n",
    "\n",
    "def make_initial_replacement(input, noun, verb):\n",
    "    input[1] = noun\n",
    "    input[2] = verb\n",
    "    return input"
   ]
  },
  {
   "cell_type": "code",
   "execution_count": 7,
   "metadata": {},
   "outputs": [],
   "source": [
    "def get_opcode_postitions(input):\n",
    "    pointer = 0\n",
    "    opcode_starts = []\n",
    "    while pointer < len(input):\n",
    "        opcode_starts.append(pointer)\n",
    "        pointer += 4\n",
    "    return opcode_starts\n",
    "\n",
    "def apply_opcodes(opcode_list, input):\n",
    "    for position in opcode_list:\n",
    "        opcode = input[position]\n",
    "        if opcode == 99:\n",
    "            return input\n",
    "        a = input[input[position + 1]]\n",
    "        b = input[input[position + 2]]\n",
    "        output_position = input[position + 3]\n",
    "        result = -1\n",
    "        if opcode == 1:\n",
    "            result = a + b\n",
    "        else:\n",
    "            result = a * b\n",
    "        input[output_position] = result\n",
    "    return input\n",
    "\n",
    "def solve1(input):\n",
    "    opcode_positions = get_opcode_postitions(input)\n",
    "    opcode_applied_output = apply_opcodes(opcode_positions, input)\n",
    "    print(opcode_applied_output[0])"
   ]
  },
  {
   "cell_type": "code",
   "execution_count": 8,
   "metadata": {},
   "outputs": [],
   "source": [
    "def solve2():\n",
    "    nouns = range(0,100)\n",
    "    verbs = range(0,100)\n",
    "    groups = itertools.product(nouns, verbs)\n",
    "    for group in groups:\n",
    "        lines = get_input_file('input.txt')\n",
    "        input = get_input_from_file(lines)\n",
    "        list = make_initial_replacement(input, group[0], group[1])\n",
    "        opcode_positions = get_opcode_postitions(list)\n",
    "        opcode_applied_output = apply_opcodes(opcode_positions, list)\n",
    "        \n",
    "        if opcode_applied_output[0] == 19690720:\n",
    "            print((100 * group[0]) + group[1])\n",
    "            break"
   ]
  },
  {
   "cell_type": "code",
   "execution_count": 9,
   "metadata": {},
   "outputs": [],
   "source": [
    "def main():\n",
    "    lines = get_input_file('input.txt')\n",
    "    input = get_input_from_file(lines)\n",
    "    adjusted_input = make_initial_replacement(input, 12, 2)\n",
    "    \n",
    "    tests = [[1,0,0,0,99],[2,3,0,3,99],[2,4,4,5,99,0],[1,1,1,4,99,5,6,0,99],[1,9,10,3,2,3,11,0,99,30,40,50]]\n",
    "    \n",
    "    for test in tests:\n",
    "        solve1(test)\n",
    "    \n",
    "    solve1(adjusted_input)\n",
    "    solve2()"
   ]
  },
  {
   "cell_type": "code",
   "execution_count": 10,
   "metadata": {},
   "outputs": [
    {
     "name": "stdout",
     "output_type": "stream",
     "text": [
      "2\n",
      "2\n",
      "2\n",
      "30\n",
      "3500\n",
      "4570637\n",
      "5485\n"
     ]
    }
   ],
   "source": [
    "main()"
   ]
  },
  {
   "cell_type": "code",
   "execution_count": null,
   "metadata": {},
   "outputs": [],
   "source": []
  }
 ],
 "metadata": {
  "kernelspec": {
   "display_name": "Python 3",
   "language": "python",
   "name": "python3"
  },
  "language_info": {
   "codemirror_mode": {
    "name": "ipython",
    "version": 3
   },
   "file_extension": ".py",
   "mimetype": "text/x-python",
   "name": "python",
   "nbconvert_exporter": "python",
   "pygments_lexer": "ipython3",
   "version": "3.7.3"
  }
 },
 "nbformat": 4,
 "nbformat_minor": 2
}
